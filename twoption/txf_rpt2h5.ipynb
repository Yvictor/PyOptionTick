{
 "cells": [
  {
   "cell_type": "code",
   "execution_count": 1,
   "metadata": {},
   "outputs": [],
   "source": [
    "import zipfile"
   ]
  },
  {
   "cell_type": "code",
   "execution_count": 2,
   "metadata": {},
   "outputs": [],
   "source": [
    "import os"
   ]
  },
  {
   "cell_type": "code",
   "execution_count": 3,
   "metadata": {},
   "outputs": [],
   "source": [
    "from pathlib import Path"
   ]
  },
  {
   "cell_type": "code",
   "execution_count": 4,
   "metadata": {},
   "outputs": [],
   "source": [
    "import pandas as pd"
   ]
  },
  {
   "cell_type": "code",
   "execution_count": 5,
   "metadata": {},
   "outputs": [],
   "source": [
    "import tqdm"
   ]
  },
  {
   "cell_type": "code",
   "execution_count": 6,
   "metadata": {},
   "outputs": [],
   "source": [
    "#! ls -al dataset/fut_tick_h5/"
   ]
  },
  {
   "cell_type": "code",
   "execution_count": 6,
   "metadata": {},
   "outputs": [],
   "source": [
    "FUT_ZIP_PATH= 'dataset/fut_zip'\n",
    "FUT_H5_PATH = 'dataset/fut_tick_h5'\n",
    "FUT_MSG_PATH = 'dataset/fut_tick_msgpack'"
   ]
  },
  {
   "cell_type": "code",
   "execution_count": 7,
   "metadata": {},
   "outputs": [],
   "source": [
    "fut_zip_path = Path(FUT_ZIP_PATH)"
   ]
  },
  {
   "cell_type": "code",
   "execution_count": 8,
   "metadata": {},
   "outputs": [],
   "source": [
    "rptzipfiles = sorted([p for p in fut_zip_path.rglob('*')])"
   ]
  },
  {
   "cell_type": "code",
   "execution_count": 9,
   "metadata": {},
   "outputs": [],
   "source": [
    "processed_futs = [p.stem for p in Path(FUT_MSG_PATH).rglob('*.msgpack')]"
   ]
  },
  {
   "cell_type": "code",
   "execution_count": 13,
   "metadata": {},
   "outputs": [
    {
     "name": "stderr",
     "output_type": "stream",
     "text": [
      "100%|██████████| 2038/2038 [50:54<00:00,  2.04s/it]\n"
     ]
    }
   ],
   "source": [
    "processed_futs = [p.stem for p in Path(FUT_MSG_PATH).rglob('*.msgpack')]\n",
    "for fut_opt in tqdm.tqdm(rptzipfiles):\n",
    "    if fut_opt.stem not in processed_futs:\n",
    "        rtp2h5(fut_opt)"
   ]
  },
  {
   "cell_type": "code",
   "execution_count": 10,
   "metadata": {},
   "outputs": [],
   "source": [
    "def _read_fut_rpt_zip(rptzipfile_path):\n",
    "    with zipfile.ZipFile(rptzipfile_path) as zipf:\n",
    "        fut_data = zipf.read(zipf.namelist()[0]).decode('big5')\n",
    "    fut_data_line = [l for l in fut_data.split('\\r\\n')]\n",
    "    header = [r.strip(' ') for r in fut_data_line[0].replace('交易日期', '成交日期').replace('交割年月', '到期月份(週別)').split(',')]\n",
    "    fut_data_list = [[r.strip(' ') for r in l.split(',')] for l in fut_data_line[1:]]\n",
    "    return header, fut_data_list"
   ]
  },
  {
   "cell_type": "code",
   "execution_count": null,
   "metadata": {},
   "outputs": [],
   "source": []
  },
  {
   "cell_type": "code",
   "execution_count": 11,
   "metadata": {},
   "outputs": [],
   "source": [
    "def _fut_data2df(fut_data_list, header):\n",
    "    df_fut_tick = pd.DataFrame(fut_data_list, columns=header).dropna()\n",
    "    df_fut_tick['成交日期時間']= pd.to_datetime(df_fut_tick['成交日期'] + df_fut_tick['成交時間'], \n",
    "                                          format='%Y%m%d%H%M%S%f')\n",
    "    df_fut_tick = df_fut_tick[['成交日期時間', '商品代號', '到期月份(週別)', '成交價格', '成交數量(B+S)']]\n",
    "    df_fut_tick['成交價格'] = df_fut_tick['成交價格'].astype(float)\n",
    "    df_fut_tick['成交數量(B+S)'] = df_fut_tick['成交數量(B+S)'].astype(int)\n",
    "    return df_fut_tick"
   ]
  },
  {
   "cell_type": "code",
   "execution_count": 12,
   "metadata": {},
   "outputs": [],
   "source": [
    "def rtp2h5(rptzipfile_path):\n",
    "    header, fut_data_list = _read_fut_rpt_zip(f\"{rptzipfile_path}\")\n",
    "    df_fut_tick = _fut_data2df(fut_data_list, header)\n",
    "    df_fut_tick.to_msgpack(f\"{FUT_MSG_PATH}/{rptzipfile_path.stem}.msgpack\", \n",
    "                           encoding='utf-8', compress='zlib')\n",
    "    df_fut_txf_tick = df_fut_tick[df_fut_tick['商品代號'] == 'TX'].reset_index(drop=True)\n",
    "    exec_dates = df_fut_txf_tick['到期月份(週別)'].unique()\n",
    "    for exec_date in exec_dates:\n",
    "        if '/' not in exec_date:\n",
    "            df_fut_txf_tick_exec = df_fut_txf_tick[df_fut_txf_tick['到期月份(週別)'] == exec_date]\n",
    "            df_fut_txf_tick_exec.to_hdf(f\"{FUT_H5_PATH}/exec_{exec_date}.h5\", 'TXF', \n",
    "                            mode='a', format='t', append=True, \n",
    "                            complevel=5, comlib='zlib')"
   ]
  },
  {
   "cell_type": "code",
   "execution_count": null,
   "metadata": {},
   "outputs": [],
   "source": []
  },
  {
   "cell_type": "code",
   "execution_count": 22,
   "metadata": {},
   "outputs": [],
   "source": [
    "rptzipfile_path = str(rptzipfiles[-10])\n",
    "header, fut_data_list = _read_fut_rpt_zip(rptzipfile_path)\n",
    "df_fut_tick = _fut_data2df(fut_data_list, header)"
   ]
  },
  {
   "cell_type": "code",
   "execution_count": 23,
   "metadata": {},
   "outputs": [],
   "source": [
    "df_fut_txf_tick = df_fut_tick[df_fut_tick['商品代號'] == 'TX'].reset_index(drop=True)"
   ]
  },
  {
   "cell_type": "code",
   "execution_count": 31,
   "metadata": {},
   "outputs": [],
   "source": [
    "exec_dates = df_fut_txf_tick['到期月份(週別)'].unique()"
   ]
  },
  {
   "cell_type": "code",
   "execution_count": 52,
   "metadata": {},
   "outputs": [
    {
     "name": "stdout",
     "output_type": "stream",
     "text": [
      "201811\n"
     ]
    }
   ],
   "source": [
    "exec_date = exec_dates[5]\n",
    "if '/' not in exec_date:\n",
    "    print(exec_date)\n",
    "df_fut_txf_tick_exec = df_fut_txf_tick[df_fut_txf_tick['到期月份(週別)'] == exec_date]"
   ]
  },
  {
   "cell_type": "code",
   "execution_count": 55,
   "metadata": {},
   "outputs": [],
   "source": []
  },
  {
   "cell_type": "code",
   "execution_count": 56,
   "metadata": {},
   "outputs": [],
   "source": [
    "df_fut_txf_tick_exec.to_hdf(f\"{FUT_H5_PATH}/exec_{exec_date}.h5\", 'TXF', \n",
    "                            mode='a', format='t', append=True, \n",
    "                            complevel=5, comlib='zlib')"
   ]
  },
  {
   "cell_type": "code",
   "execution_count": 11,
   "metadata": {},
   "outputs": [],
   "source": [
    "rptzipfile_path = rptzipfiles[-10]\n",
    "with zipfile.ZipFile(rptzipfile_path) as zipf:\n",
    "    fut_data = zipf.read(zipf.namelist()[0]).decode('big5')\n",
    "fut_data_line = [l for l in fut_data.split('\\r\\n')]\n",
    "header = [r.strip(' ') for r in fut_data_line[0].replace('交易日期', '成交日期').replace('交割年月', '到期月份(週別)').split(',')]\n",
    "fut_data_list = [[r.strip(' ') for r in l.split(',')] for l in fut_data_line[1:]]"
   ]
  },
  {
   "cell_type": "code",
   "execution_count": 12,
   "metadata": {},
   "outputs": [],
   "source": [
    "df_fut_tick = pd.DataFrame(fut_data_list, columns=header).dropna()"
   ]
  },
  {
   "cell_type": "code",
   "execution_count": null,
   "metadata": {},
   "outputs": [],
   "source": []
  },
  {
   "cell_type": "code",
   "execution_count": 13,
   "metadata": {},
   "outputs": [],
   "source": [
    "df_fut_tick['成交日期時間']= pd.to_datetime(df_fut_tick['成交日期'] + df_fut_tick['成交時間'], format='%Y%m%d%H%M%S%f')"
   ]
  },
  {
   "cell_type": "code",
   "execution_count": 14,
   "metadata": {},
   "outputs": [],
   "source": [
    "df_fut_tick = df_fut_tick[['成交日期時間', '商品代號', '到期月份(週別)', '成交價格', '成交數量(B+S)']]"
   ]
  },
  {
   "cell_type": "code",
   "execution_count": 15,
   "metadata": {},
   "outputs": [],
   "source": [
    "df_fut_tick['成交價格'] = df_fut_tick['成交價格'].astype(float)"
   ]
  },
  {
   "cell_type": "code",
   "execution_count": 16,
   "metadata": {},
   "outputs": [],
   "source": [
    "df_fut_tick['成交數量(B+S)'] = df_fut_tick['成交數量(B+S)'].astype(int)"
   ]
  },
  {
   "cell_type": "code",
   "execution_count": 76,
   "metadata": {},
   "outputs": [
    {
     "data": {
      "text/plain": [
       "成交日期時間       datetime64[ns]\n",
       "商品代號                 object\n",
       "到期月份(週別)             object\n",
       "成交價格                float64\n",
       "成交數量(B+S)             int64\n",
       "dtype: object"
      ]
     },
     "execution_count": 76,
     "metadata": {},
     "output_type": "execute_result"
    }
   ],
   "source": [
    "df_fut_tick.dtypes"
   ]
  },
  {
   "cell_type": "code",
   "execution_count": 43,
   "metadata": {},
   "outputs": [],
   "source": [
    "fut_data_list = [[r.strip(' ') for r in l.split(',')] for l in fut_data_line[1:]][:10]"
   ]
  },
  {
   "cell_type": "code",
   "execution_count": 44,
   "metadata": {},
   "outputs": [
    {
     "data": {
      "text/plain": [
       "[['20181016', 'BRF', '201812', '150708', '2484.5', '2', '-', '-', ''],\n",
       " ['20181016', 'BRF', '201812', '153913', '2480.5', '2', '-', '-', ''],\n",
       " ['20181016', 'BRF', '201812', '172756', '2481', '2', '-', '-', ''],\n",
       " ['20181016', 'BRF', '201812', '173133', '2481', '2', '-', '-', ''],\n",
       " ['20181016', 'BRF', '201812', '174412', '2469', '2', '-', '-', ''],\n",
       " ['20181016', 'BRF', '201812', '174432', '2469.5', '2', '-', '-', ''],\n",
       " ['20181016', 'BRF', '201812', '180213', '2470', '4', '-', '-', ''],\n",
       " ['20181016', 'BRF', '201812', '180358', '2469.5', '2', '-', '-', ''],\n",
       " ['20181016', 'BRF', '201812', '202904', '2470', '2', '-', '-', ''],\n",
       " ['20181016', 'BRF', '201812', '211637', '2470', '2', '-', '-', '']]"
      ]
     },
     "execution_count": 44,
     "metadata": {},
     "output_type": "execute_result"
    }
   ],
   "source": [
    "fut_data_list[:10]"
   ]
  },
  {
   "cell_type": "code",
   "execution_count": null,
   "metadata": {},
   "outputs": [],
   "source": [
    "pd.Da"
   ]
  },
  {
   "cell_type": "code",
   "execution_count": 24,
   "metadata": {},
   "outputs": [
    {
     "name": "stdout",
     "output_type": "stream",
     "text": [
      "交易日期,商品代號,交割年月,成交時間,成交價格,成交數量(B+S),近月價格,遠月價格\n",
      "20110117,CBF    ,201101     ,11310200,33.2,8,-,-\n",
      "20110117,CBF    ,201101     ,13345400,33,6,-,-\n",
      "20110117,CBF    ,201102     ,09450300,33.4,4,-,-\n",
      "20110117,CBF    ,201102     ,11310200,33.2,8,-,-\n",
      "20110117,CBF    ,201102     ,13345400,33,6,-,-\n",
      "20110117,CCF    ,201101     ,08460100,16.7,2,-,-\n",
      "20110117,CCF    ,201101     ,08472300,16.75,2,-,-\n",
      "20110117,CCF    ,201101     ,09030800,16.75,2,-,-\n",
      "20110117,CCF    ,201101     ,09042400,16.85,2,-,-\n",
      "20110117,CCF    ,201101     ,09111900,16.8,20,-,-\n",
      "20110117,CCF    ,201101     ,09112000,16.8,20,-,-\n",
      "20110117,CCF    ,201101     ,09113000,16.8,20,-,-\n",
      "20110117,CCF    ,201101     ,09114500,16.85,10,-,-\n",
      "20110117,CCF    ,201101     ,09144400,16.8,70,-,-\n",
      "20110117,CCF    ,201101     ,09210200,16.85,4,-,-\n",
      "20110117,CCF    ,201101     ,09210300,16.85,2,-,-\n",
      "20110117,CCF    ,201101     ,09212900,16.85,60,-,-\n",
      "20110117,CCF    ,201101     ,09240500,16.85,20,-,-\n",
      "20110117,CCF    ,201101     ,09280200,16.9,\n"
     ]
    }
   ],
   "source": [
    "print(fut_data[:1000])"
   ]
  },
  {
   "cell_type": "code",
   "execution_count": 32,
   "metadata": {},
   "outputs": [
    {
     "data": {
      "text/plain": [
       "'成交日期,商品代號,到期月份(週別),成交時間,成交價格,成交數量(B+S),近月價格,遠月價格,開盤集合競價 \\r\\n20181016,BRF    ,201812     ,150708,2484.5,2,-,-, \\r\\n20181016,BRF    ,201812     ,153913,2480.5,2,-,-, \\r\\n20181016,BRF    ,201812     ,172756,2481,2,-,-, \\r\\n20181016,BRF    ,201812     ,173133,2481,2,-,-, \\r\\n20181016,BRF    ,201812     ,174412,2469,2,-,-, \\r\\n20181016,BRF    ,201812     ,174432,2469.5,2,-,-, \\r\\n20181016,BRF    ,201812     ,180213,2470,4,-,-, \\r\\n20181016,BRF    ,201812     ,180358,2469.5,2,-,-, \\r\\n20181016,BRF    ,201812     ,202904,2470,2,-,-, \\r\\n20181016,BRF    ,201812     ,211637,2470,2,-,-, \\r\\n20181016,BRF    ,201812     ,212632,2469.5,2,-,-, \\r\\n20181016,BRF    ,201812     ,213819,2467.5,2,-,-, \\r\\n20181016,BRF    ,201812     ,214524,2477,2,-,-, \\r\\n20181016,BRF    ,201812     ,215046,2472,2,-,-, \\r\\n20181016,BRF    ,201812     ,215612,2479,2,-,-, \\r\\n20181016,BRF    ,201812     ,215926,2480,2,-,-, \\r\\n20181016,BRF    ,201812     ,221456,2484,2,-,-, \\r\\n20181016,BRF    ,201812     ,224156,2479,2,-,-, \\r\\n20181016,BRF    ,201812     ,2'"
      ]
     },
     "execution_count": 32,
     "metadata": {},
     "output_type": "execute_result"
    }
   ],
   "source": [
    "fut_data[:1000]"
   ]
  },
  {
   "cell_type": "code",
   "execution_count": 31,
   "metadata": {},
   "outputs": [
    {
     "name": "stdout",
     "output_type": "stream",
     "text": [
      "成交日期,商品代號,到期月份(週別),成交時間,成交價格,成交數量(B+S),近月價格,遠月價格,開盤集合競價 \n",
      "20181016,BRF    ,201812     ,150708,2484.5,2,-,-, \n",
      "20181016,BRF    ,201812     ,153913,2480.5,2,-,-, \n",
      "20181016,BRF    ,201812     ,172756,2481,2,-,-, \n",
      "20181016,BRF    ,201812     ,173133,2481,2,-,-, \n",
      "20181016,BRF    ,201812     ,174412,2469,2,-,-, \n",
      "20181016,BRF    ,201812     ,174432,2469.5,2,-,-, \n",
      "20181016,BRF    ,201812     ,180213,2470,4,-,-, \n",
      "20181016,BRF    ,201812     ,180358,2469.5,2,-,-, \n",
      "20181016,BRF    ,201812     ,202904,2470,2,-,-, \n",
      "20181016,BRF    ,201812     ,211637,2470,2,-,-, \n",
      "20181016,BRF    ,201812     ,212632,2469.5,2,-,-, \n",
      "20181016,BRF    ,201812     ,213819,2467.5,2,-,-, \n",
      "20181016,BRF    ,201812     ,214524,2477,2,-,-, \n",
      "20181016,BRF    ,201812     ,215046,2472,2,-,-, \n",
      "20181016,BRF    ,201812     ,215612,2479,2,-,-, \n",
      "20181016,BRF    ,201812     ,215926,2480,2,-,-, \n",
      "20181016,BRF    ,201812     ,221456,2484,2,-,-, \n",
      "20181016,BRF    ,201812     ,224156,2479,2,-,-, \n",
      "20181016,BRF    ,201812     ,2\n"
     ]
    }
   ],
   "source": [
    "print(fut_data[:1000])"
   ]
  },
  {
   "cell_type": "code",
   "execution_count": null,
   "metadata": {},
   "outputs": [],
   "source": []
  }
 ],
 "metadata": {
  "kernelspec": {
   "display_name": "Python 3",
   "language": "python",
   "name": "python3"
  },
  "language_info": {
   "codemirror_mode": {
    "name": "ipython",
    "version": 3
   },
   "file_extension": ".py",
   "mimetype": "text/x-python",
   "name": "python",
   "nbconvert_exporter": "python",
   "pygments_lexer": "ipython3",
   "version": "3.7.0"
  }
 },
 "nbformat": 4,
 "nbformat_minor": 2
}
