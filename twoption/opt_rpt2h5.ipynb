{
 "cells": [
  {
   "cell_type": "code",
   "execution_count": 1,
   "metadata": {},
   "outputs": [],
   "source": [
    "import os\n",
    "import zipfile\n",
    "import pandas as pd\n",
    "import glob\n",
    "import multiprocessing as mp\n",
    "import tqdm"
   ]
  },
  {
   "cell_type": "code",
   "execution_count": 2,
   "metadata": {},
   "outputs": [],
   "source": [
    "OPT_RPT_ZIP_PATH = os.environ.get('OPT_RPT_ZIP_PATH', 'dataset/opt_zip')\n",
    "OPT_MSG_PATH = os.environ.get('OPT_MSG_PATH', 'dataset/opt_tick_msgpack')\n",
    "OPT_H5_PATH = os.environ.get('OPT_H5_PATH', 'dataset/opt_tick_h5')"
   ]
  },
  {
   "cell_type": "code",
   "execution_count": 3,
   "metadata": {},
   "outputs": [],
   "source": [
    "def _read_op_rpt_zip(opt_rpt):\n",
    "    with zipfile.ZipFile(opt_rpt, mode='r') as zipf:\n",
    "        op_data = zipf.read(zipf.namelist()[0]).decode('big5')\n",
    "    op_data_line = [l for l in op_data.split('\\r\\n')]\n",
    "    header = [r.strip(' ') for r in op_data_line[0].replace('交易日期', \n",
    "                                                             '成交日期').replace('交割年月', \n",
    "                                                                            '到期月份(週別)').replace('成交數量(B+S)', \n",
    "                                                                                                '成交數量(B or S)').split(',')]\n",
    "    op_data = [[r.strip(' ') for r in l.split(',')] for l in op_data_line[2:]]\n",
    "    return header, op_data\n",
    "\n",
    "def _op_data2df(op_data, header):\n",
    "    df_op_tick = pd.DataFrame(op_data, columns=header).dropna()\n",
    "    df_op_tick['成交日期時間'] = pd.to_datetime(df_op_tick['成交日期'] + df_op_tick['成交時間'], format='%Y%m%d%H%M%S%f')\n",
    "    df_op_tick = df_op_tick.drop(columns=['成交日期', '成交時間'])\n",
    "    df_op_tick['履約價格'] = df_op_tick['履約價格'].astype(float)\n",
    "    df_op_tick['成交價格'] = df_op_tick['成交價格'].astype(float)\n",
    "    df_op_tick['成交數量(B or S)'] = df_op_tick['成交數量(B or S)'].astype(int)\n",
    "    if '開盤集合競價' in df_op_tick.columns:\n",
    "        df_op_tick = df_op_tick.drop('開盤集合競價', axis=1) \n",
    "    return df_op_tick\n",
    "\n",
    "\n",
    "def filter_delivery_date(data):\n",
    "    df_op_tick, exec_date = data\n",
    "    df_op_tick_exec = df_op_tick[df_op_tick['到期月份(週別)']==exec_date]\n",
    "    opt_codes = df_op_tick_exec['code'].unique()\n",
    "    for op_code in opt_codes:\n",
    "        df_op_tick_exec_cp = df_op_tick_exec[df_op_tick_exec['code'] == op_code]\n",
    "        df_op_tick_exec_cp.to_hdf(f'{OPT_H5_PATH}/exec_{exec_date}.h5', op_code, mode='a',\n",
    "                                    format='t', append=True, complevel=5, complib='zlib')\n",
    "        \n",
    "def rpt2h5(opt_rpt, opt_name):\n",
    "    header, op_data = _read_op_rpt_zip(opt_rpt)\n",
    "    df_op_tick = _op_data2df(op_data, header)\n",
    "    df_op_tick.to_msgpack(f'{OPT_MSG_PATH}/{opt_name}.msgpack', encoding='utf-8', compress='zlib')\n",
    "    df_op_tick = df_op_tick[df_op_tick['商品代號']=='TXO'].copy()\n",
    "    df_op_tick['code'] = df_op_tick['買賣權別'] + df_op_tick['履約價格'].astype(int).astype(str)\n",
    "    exec_dates = df_op_tick['到期月份(週別)'].unique()\n",
    "    for exec_date in exec_dates:\n",
    "        filter_delivery_date((df_op_tick, exec_date))"
   ]
  },
  {
   "cell_type": "code",
   "execution_count": 4,
   "metadata": {},
   "outputs": [],
   "source": [
    "opt_rpt_zips = sorted(glob.glob(f'{OPT_RPT_ZIP_PATH}/*.zip'))"
   ]
  },
  {
   "cell_type": "code",
   "execution_count": 5,
   "metadata": {},
   "outputs": [
    {
     "name": "stderr",
     "output_type": "stream",
     "text": [
      "100%|██████████| 2038/2038 [1:19:53<00:00,  7.16s/it]\n"
     ]
    }
   ],
   "source": [
    "processed_opts = [opt.split('/')[-1].split('.')[0] \n",
    "                  for opt in glob.glob(f'{OPT_MSG_PATH}/*.msgpack')]\n",
    "for opt_rpt in tqdm.tqdm(opt_rpt_zips[:]):\n",
    "    opt_name = opt_rpt.split('/')[-1].strip('.zip')\n",
    "    if opt_name not in processed_opts:\n",
    "        #print(opt_rpt)\n",
    "        rpt2h5(opt_rpt, opt_name)    "
   ]
  },
  {
   "cell_type": "code",
   "execution_count": 7,
   "metadata": {},
   "outputs": [
    {
     "data": {
      "text/plain": [
       "'OptionsDaily_2014_04_16'"
      ]
     },
     "execution_count": 7,
     "metadata": {},
     "output_type": "execute_result"
    }
   ],
   "source": [
    "opt_name"
   ]
  },
  {
   "cell_type": "code",
   "execution_count": 8,
   "metadata": {},
   "outputs": [
    {
     "data": {
      "text/plain": [
       "'dataset/opt_zip/OptionsDaily_2014_04_16.zip'"
      ]
     },
     "execution_count": 8,
     "metadata": {},
     "output_type": "execute_result"
    }
   ],
   "source": [
    "opt_rpt"
   ]
  },
  {
   "cell_type": "code",
   "execution_count": 10,
   "metadata": {},
   "outputs": [
    {
     "name": "stdout",
     "output_type": "stream",
     "text": [
      "-rw-rw-r--. 1 yvictor yvictor 770K Apr 20 06:23 dataset/opt_zip/OptionsDaily_2014_04_16.zip\n"
     ]
    }
   ],
   "source": [
    "! ls -alh dataset/opt_zip/OptionsDaily_2014_04_16.zip"
   ]
  },
  {
   "cell_type": "code",
   "execution_count": 11,
   "metadata": {},
   "outputs": [
    {
     "name": "stdout",
     "output_type": "stream",
     "text": [
      "-rw-r--r--. 1 yvictor yvictor 653K Apr 21 04:27 dataset/opt_zip/OptionsDaily_2014_04_16.zip\n"
     ]
    }
   ],
   "source": [
    "! ls -alh dataset/opt_zip/OptionsDaily_2014_04_16.zip"
   ]
  },
  {
   "cell_type": "code",
   "execution_count": 15,
   "metadata": {},
   "outputs": [
    {
     "name": "stdout",
     "output_type": "stream",
     "text": [
      "-rw-rw-r--. 1 yvictor yvictor 1.2M Apr 20 06:24 dataset/opt_zip/OptionsDaily_2016_07_13.zip\n"
     ]
    }
   ],
   "source": [
    "! ls -alh dataset/opt_zip/OptionsDaily_2016_07_13.zip"
   ]
  },
  {
   "cell_type": "code",
   "execution_count": 16,
   "metadata": {},
   "outputs": [
    {
     "name": "stdout",
     "output_type": "stream",
     "text": [
      "-rw-r--r--. 1 yvictor yvictor 1.2M Apr 21 05:37 dataset/opt_zip/OptionsDaily_2016_07_13.zip\n"
     ]
    }
   ],
   "source": [
    "! ls -alh dataset/opt_zip/OptionsDaily_2016_07_13.zip"
   ]
  },
  {
   "cell_type": "code",
   "execution_count": 19,
   "metadata": {},
   "outputs": [
    {
     "name": "stdout",
     "output_type": "stream",
     "text": [
      "-rw-rw-r--. 1 yvictor yvictor 546604 Apr 20 06:24 dataset/opt_zip/OptionsDaily_2016_07_14.zip\n"
     ]
    }
   ],
   "source": [
    "! ls -al  dataset/opt_zip/OptionsDaily_2016_07_14.zip"
   ]
  },
  {
   "cell_type": "code",
   "execution_count": 21,
   "metadata": {},
   "outputs": [
    {
     "name": "stdout",
     "output_type": "stream",
     "text": [
      "-rw-r--r--. 1 yvictor yvictor 545677 Apr 21 05:40 dataset/opt_zip/OptionsDaily_2016_07_14.zip\n"
     ]
    }
   ],
   "source": [
    "! ls -al  dataset/opt_zip/OptionsDaily_2016_07_14.zip"
   ]
  },
  {
   "cell_type": "code",
   "execution_count": 22,
   "metadata": {},
   "outputs": [
    {
     "name": "stdout",
     "output_type": "stream",
     "text": [
      "-rw-rw-r--. 1 yvictor yvictor 811395 Apr 20 06:24 dataset/opt_zip/OptionsDaily_2016_07_15.zip\n"
     ]
    }
   ],
   "source": [
    "! ls -al  dataset/opt_zip/OptionsDaily_2016_07_15.zip"
   ]
  },
  {
   "cell_type": "code",
   "execution_count": 23,
   "metadata": {},
   "outputs": [
    {
     "name": "stdout",
     "output_type": "stream",
     "text": [
      "-rw-r--r--. 1 yvictor yvictor 810054 Apr 21 05:41 dataset/opt_zip/OptionsDaily_2016_07_15.zip\n"
     ]
    }
   ],
   "source": [
    "! ls -al  dataset/opt_zip/OptionsDaily_2016_07_15.zip"
   ]
  },
  {
   "cell_type": "code",
   "execution_count": 26,
   "metadata": {},
   "outputs": [
    {
     "name": "stdout",
     "output_type": "stream",
     "text": [
      "-rw-rw-r--. 1 yvictor yvictor 1097161 Apr 20 06:24 dataset/opt_zip/OptionsDaily_2016_08_03.zip\n"
     ]
    }
   ],
   "source": [
    "! ls -al  dataset/opt_zip/OptionsDaily_2016_08_03.zip"
   ]
  },
  {
   "cell_type": "code",
   "execution_count": 28,
   "metadata": {},
   "outputs": [
    {
     "name": "stdout",
     "output_type": "stream",
     "text": [
      "-rw-r--r--. 1 yvictor yvictor 1096217 Apr 21 05:52 dataset/opt_zip/OptionsDaily_2016_08_03.zip\n"
     ]
    }
   ],
   "source": [
    "! ls -al  dataset/opt_zip/OptionsDaily_2016_08_03.zip"
   ]
  },
  {
   "cell_type": "code",
   "execution_count": null,
   "metadata": {},
   "outputs": [],
   "source": []
  }
 ],
 "metadata": {
  "kernelspec": {
   "display_name": "Python 3",
   "language": "python",
   "name": "python3"
  },
  "language_info": {
   "codemirror_mode": {
    "name": "ipython",
    "version": 3
   },
   "file_extension": ".py",
   "mimetype": "text/x-python",
   "name": "python",
   "nbconvert_exporter": "python",
   "pygments_lexer": "ipython3",
   "version": "3.7.0"
  }
 },
 "nbformat": 4,
 "nbformat_minor": 2
}
